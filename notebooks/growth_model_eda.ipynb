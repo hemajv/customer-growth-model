{
 "cells": [
  {
   "cell_type": "markdown",
   "id": "c688733b-2d79-4d26-bc8f-8459f1f5f6c0",
   "metadata": {},
   "source": [
    "# EDA Notebook\n",
    "\n",
    "In this notebook, we will use a public revenue dataset obtained from [Kaggle](https://www.kaggle.com/datasets/census/business-and-industry-reports?select=notes.txt) and pre-process the dataset to be used for training an Auto ARIMA time series forecasting model to predict revenue in the future."
   ]
  },
  {
   "cell_type": "code",
   "execution_count": 1,
   "id": "04281130-dedc-43c8-8040-6d77176544a5",
   "metadata": {},
   "outputs": [],
   "source": [
    "import pandas as pd\n",
    "import os"
   ]
  },
  {
   "cell_type": "markdown",
   "id": "677a9b50-ff7e-4183-b967-4b0f70a42fd8",
   "metadata": {},
   "source": [
    "## Helper Functions"
   ]
  },
  {
   "cell_type": "code",
   "execution_count": 2,
   "id": "033c4abb-4980-4603-99d2-399a4bf9e9a6",
   "metadata": {},
   "outputs": [],
   "source": [
    "# function to filter first n groups after grouping a df\n",
    "def filter_n_groups(g_df, n):\n",
    "    result = [g[1] for g in list(g_df)[:n]]\n",
    "    df_result = pd.concat(result)\n",
    "    return df_result"
   ]
  },
  {
   "cell_type": "markdown",
   "id": "913eeae1-9636-448d-bdfb-eb38750daacc",
   "metadata": {},
   "source": [
    "## Data Collection"
   ]
  },
  {
   "cell_type": "code",
   "execution_count": 3,
   "id": "7771c3a9-37cd-408b-ad60-ecfee9088f4c",
   "metadata": {},
   "outputs": [
    {
     "name": "stderr",
     "output_type": "stream",
     "text": [
      "/tmp/ipykernel_4168/4251968774.py:2: DtypeWarning: Columns (2) have mixed types. Specify dtype option on import or set low_memory=False.\n",
      "  df = pd.read_csv(\"../data/raw/data.csv\")\n"
     ]
    }
   ],
   "source": [
    "# Read the Kaggle dataset\n",
    "df = pd.read_csv(\"../data/raw/data.csv\")"
   ]
  },
  {
   "cell_type": "code",
   "execution_count": 4,
   "id": "0d500645-a953-4685-9c6a-28f543ae81f6",
   "metadata": {},
   "outputs": [
    {
     "data": {
      "text/html": [
       "<div>\n",
       "<style scoped>\n",
       "    .dataframe tbody tr th:only-of-type {\n",
       "        vertical-align: middle;\n",
       "    }\n",
       "\n",
       "    .dataframe tbody tr th {\n",
       "        vertical-align: top;\n",
       "    }\n",
       "\n",
       "    .dataframe thead th {\n",
       "        text-align: right;\n",
       "    }\n",
       "</style>\n",
       "<table border=\"1\" class=\"dataframe\">\n",
       "  <thead>\n",
       "    <tr style=\"text-align: right;\">\n",
       "      <th></th>\n",
       "      <th>time_series_code</th>\n",
       "      <th>date</th>\n",
       "      <th>value</th>\n",
       "    </tr>\n",
       "  </thead>\n",
       "  <tbody>\n",
       "    <tr>\n",
       "      <th>0</th>\n",
       "      <td>BOPGS_BAL_US_adj</td>\n",
       "      <td>1992-01-01</td>\n",
       "      <td>-2026</td>\n",
       "    </tr>\n",
       "    <tr>\n",
       "      <th>1</th>\n",
       "      <td>BOPGS_EXP_US_adj</td>\n",
       "      <td>1992-01-01</td>\n",
       "      <td>50251</td>\n",
       "    </tr>\n",
       "    <tr>\n",
       "      <th>2</th>\n",
       "      <td>BOPGS_IMP_US_adj</td>\n",
       "      <td>1992-01-01</td>\n",
       "      <td>52277</td>\n",
       "    </tr>\n",
       "    <tr>\n",
       "      <th>3</th>\n",
       "      <td>BOPG_BAL_US</td>\n",
       "      <td>1992-01-01</td>\n",
       "      <td>-6210</td>\n",
       "    </tr>\n",
       "    <tr>\n",
       "      <th>4</th>\n",
       "      <td>BOPG_EXP_US</td>\n",
       "      <td>1992-01-01</td>\n",
       "      <td>33953</td>\n",
       "    </tr>\n",
       "  </tbody>\n",
       "</table>\n",
       "</div>"
      ],
      "text/plain": [
       "   time_series_code        date  value\n",
       "0  BOPGS_BAL_US_adj  1992-01-01  -2026\n",
       "1  BOPGS_EXP_US_adj  1992-01-01  50251\n",
       "2  BOPGS_IMP_US_adj  1992-01-01  52277\n",
       "3       BOPG_BAL_US  1992-01-01  -6210\n",
       "4       BOPG_EXP_US  1992-01-01  33953"
      ]
     },
     "execution_count": 4,
     "metadata": {},
     "output_type": "execute_result"
    }
   ],
   "source": [
    "df.head()"
   ]
  },
  {
   "cell_type": "code",
   "execution_count": 5,
   "id": "4c7a564e-1360-406e-8cad-b0f368614b93",
   "metadata": {},
   "outputs": [
    {
     "name": "stdout",
     "output_type": "stream",
     "text": [
      "<class 'pandas.core.frame.DataFrame'>\n",
      "RangeIndex: 1333709 entries, 0 to 1333708\n",
      "Data columns (total 3 columns):\n",
      " #   Column            Non-Null Count    Dtype \n",
      "---  ------            --------------    ----- \n",
      " 0   time_series_code  1333709 non-null  object\n",
      " 1   date              1333709 non-null  object\n",
      " 2   value             1333709 non-null  object\n",
      "dtypes: object(3)\n",
      "memory usage: 30.5+ MB\n"
     ]
    }
   ],
   "source": [
    "df.info()"
   ]
  },
  {
   "cell_type": "code",
   "execution_count": 6,
   "id": "bb92b73c-4f0b-4f50-b5b0-7e23086754ac",
   "metadata": {},
   "outputs": [],
   "source": [
    "# convert revenue values to numerical format\n",
    "df['value'] = pd.to_numeric(df['value'], errors='coerce')"
   ]
  },
  {
   "cell_type": "markdown",
   "id": "7c5fbfdc-a302-4e21-ac92-602dd2aa2d47",
   "metadata": {},
   "source": [
    "## Data Pre-Processing\n",
    "\n",
    "We will now pre-process the raw data set into a suitable format for training our model."
   ]
  },
  {
   "cell_type": "code",
   "execution_count": 7,
   "id": "da3c11d5-70c3-4309-b3cd-33ec44c61200",
   "metadata": {},
   "outputs": [],
   "source": [
    "# Only retain positive revenue values\n",
    "df_new = df[df['value'] > 0]"
   ]
  },
  {
   "cell_type": "code",
   "execution_count": 8,
   "id": "e8f7a163-2f75-46ae-b546-1fc7c8275404",
   "metadata": {},
   "outputs": [],
   "source": [
    "# rename column\n",
    "df_new = df_new.rename(columns={\"time_series_code\": \"account_name\"})"
   ]
  },
  {
   "cell_type": "code",
   "execution_count": 9,
   "id": "7fb35822-6aec-49b7-870f-9de35c4d3d33",
   "metadata": {},
   "outputs": [
    {
     "data": {
      "text/html": [
       "<div>\n",
       "<style scoped>\n",
       "    .dataframe tbody tr th:only-of-type {\n",
       "        vertical-align: middle;\n",
       "    }\n",
       "\n",
       "    .dataframe tbody tr th {\n",
       "        vertical-align: top;\n",
       "    }\n",
       "\n",
       "    .dataframe thead th {\n",
       "        text-align: right;\n",
       "    }\n",
       "</style>\n",
       "<table border=\"1\" class=\"dataframe\">\n",
       "  <thead>\n",
       "    <tr style=\"text-align: right;\">\n",
       "      <th></th>\n",
       "      <th>account_name</th>\n",
       "      <th>date</th>\n",
       "      <th>value</th>\n",
       "    </tr>\n",
       "  </thead>\n",
       "  <tbody>\n",
       "    <tr>\n",
       "      <th>1</th>\n",
       "      <td>BOPGS_EXP_US_adj</td>\n",
       "      <td>1992-01-01</td>\n",
       "      <td>50251.0</td>\n",
       "    </tr>\n",
       "    <tr>\n",
       "      <th>2</th>\n",
       "      <td>BOPGS_IMP_US_adj</td>\n",
       "      <td>1992-01-01</td>\n",
       "      <td>52277.0</td>\n",
       "    </tr>\n",
       "    <tr>\n",
       "      <th>4</th>\n",
       "      <td>BOPG_EXP_US</td>\n",
       "      <td>1992-01-01</td>\n",
       "      <td>33953.0</td>\n",
       "    </tr>\n",
       "    <tr>\n",
       "      <th>5</th>\n",
       "      <td>BOPG_IMP_US</td>\n",
       "      <td>1992-01-01</td>\n",
       "      <td>40163.0</td>\n",
       "    </tr>\n",
       "    <tr>\n",
       "      <th>7</th>\n",
       "      <td>BOPGS_EXP_US_adj</td>\n",
       "      <td>1992-02-01</td>\n",
       "      <td>51682.0</td>\n",
       "    </tr>\n",
       "  </tbody>\n",
       "</table>\n",
       "</div>"
      ],
      "text/plain": [
       "       account_name        date    value\n",
       "1  BOPGS_EXP_US_adj  1992-01-01  50251.0\n",
       "2  BOPGS_IMP_US_adj  1992-01-01  52277.0\n",
       "4       BOPG_EXP_US  1992-01-01  33953.0\n",
       "5       BOPG_IMP_US  1992-01-01  40163.0\n",
       "7  BOPGS_EXP_US_adj  1992-02-01  51682.0"
      ]
     },
     "execution_count": 9,
     "metadata": {},
     "output_type": "execute_result"
    }
   ],
   "source": [
    "df_new.head()"
   ]
  },
  {
   "cell_type": "code",
   "execution_count": 10,
   "id": "80d172f4-a57f-44d3-9813-f3269167aa86",
   "metadata": {},
   "outputs": [],
   "source": [
    "# Let's filter for revenues between 2012-2014 to be used as our training set\n",
    "# fist 3 months of 2015 will be used as our validation set\n",
    "df_filtered = df_new[(df_new['date'] >= '2012-01-01') & (df_new['date'] <= '2015-03-01')]"
   ]
  },
  {
   "cell_type": "code",
   "execution_count": 11,
   "id": "38ac35f3-6c82-48e6-995a-d82657eba8cf",
   "metadata": {},
   "outputs": [
    {
     "data": {
      "text/html": [
       "<div>\n",
       "<style scoped>\n",
       "    .dataframe tbody tr th:only-of-type {\n",
       "        vertical-align: middle;\n",
       "    }\n",
       "\n",
       "    .dataframe tbody tr th {\n",
       "        vertical-align: top;\n",
       "    }\n",
       "\n",
       "    .dataframe thead th {\n",
       "        text-align: right;\n",
       "    }\n",
       "</style>\n",
       "<table border=\"1\" class=\"dataframe\">\n",
       "  <thead>\n",
       "    <tr style=\"text-align: right;\">\n",
       "      <th></th>\n",
       "      <th>account_name</th>\n",
       "      <th>date</th>\n",
       "      <th>value</th>\n",
       "    </tr>\n",
       "  </thead>\n",
       "  <tbody>\n",
       "    <tr>\n",
       "      <th>1441</th>\n",
       "      <td>BOPGS_EXP_US_adj</td>\n",
       "      <td>2012-01-01</td>\n",
       "      <td>180073.0</td>\n",
       "    </tr>\n",
       "    <tr>\n",
       "      <th>1442</th>\n",
       "      <td>BOPGS_IMP_US_adj</td>\n",
       "      <td>2012-01-01</td>\n",
       "      <td>231056.0</td>\n",
       "    </tr>\n",
       "    <tr>\n",
       "      <th>1444</th>\n",
       "      <td>BOPG_EXP_US</td>\n",
       "      <td>2012-01-01</td>\n",
       "      <td>119238.0</td>\n",
       "    </tr>\n",
       "    <tr>\n",
       "      <th>1445</th>\n",
       "      <td>BOPG_IMP_US</td>\n",
       "      <td>2012-01-01</td>\n",
       "      <td>185993.0</td>\n",
       "    </tr>\n",
       "    <tr>\n",
       "      <th>1447</th>\n",
       "      <td>BOPGS_EXP_US_adj</td>\n",
       "      <td>2012-02-01</td>\n",
       "      <td>182640.0</td>\n",
       "    </tr>\n",
       "  </tbody>\n",
       "</table>\n",
       "</div>"
      ],
      "text/plain": [
       "          account_name        date     value\n",
       "1441  BOPGS_EXP_US_adj  2012-01-01  180073.0\n",
       "1442  BOPGS_IMP_US_adj  2012-01-01  231056.0\n",
       "1444       BOPG_EXP_US  2012-01-01  119238.0\n",
       "1445       BOPG_IMP_US  2012-01-01  185993.0\n",
       "1447  BOPGS_EXP_US_adj  2012-02-01  182640.0"
      ]
     },
     "execution_count": 11,
     "metadata": {},
     "output_type": "execute_result"
    }
   ],
   "source": [
    "df_filtered.head()"
   ]
  },
  {
   "cell_type": "code",
   "execution_count": 12,
   "id": "d2249821-59b0-4216-9329-ab52f1e4d9bd",
   "metadata": {},
   "outputs": [
    {
     "data": {
      "text/html": [
       "<div>\n",
       "<style scoped>\n",
       "    .dataframe tbody tr th:only-of-type {\n",
       "        vertical-align: middle;\n",
       "    }\n",
       "\n",
       "    .dataframe tbody tr th {\n",
       "        vertical-align: top;\n",
       "    }\n",
       "\n",
       "    .dataframe thead th {\n",
       "        text-align: right;\n",
       "    }\n",
       "</style>\n",
       "<table border=\"1\" class=\"dataframe\">\n",
       "  <thead>\n",
       "    <tr style=\"text-align: right;\">\n",
       "      <th></th>\n",
       "      <th>account_name</th>\n",
       "      <th>date</th>\n",
       "      <th>value</th>\n",
       "    </tr>\n",
       "  </thead>\n",
       "  <tbody>\n",
       "    <tr>\n",
       "      <th>1325351</th>\n",
       "      <td>20IX_MPCV_US_adj</td>\n",
       "      <td>2015-03-01</td>\n",
       "      <td>2.1</td>\n",
       "    </tr>\n",
       "    <tr>\n",
       "      <th>1325352</th>\n",
       "      <td>XXXX_MPCP_US_adj</td>\n",
       "      <td>2015-03-01</td>\n",
       "      <td>1.6</td>\n",
       "    </tr>\n",
       "    <tr>\n",
       "      <th>1325353</th>\n",
       "      <td>00XX_MPCP_US_adj</td>\n",
       "      <td>2015-03-01</td>\n",
       "      <td>10.7</td>\n",
       "    </tr>\n",
       "    <tr>\n",
       "      <th>1325354</th>\n",
       "      <td>NRXX_MPCP_US_adj</td>\n",
       "      <td>2015-03-01</td>\n",
       "      <td>1.4</td>\n",
       "    </tr>\n",
       "    <tr>\n",
       "      <th>1325356</th>\n",
       "      <td>03XX_MPCP_US_adj</td>\n",
       "      <td>2015-03-01</td>\n",
       "      <td>5.2</td>\n",
       "    </tr>\n",
       "  </tbody>\n",
       "</table>\n",
       "</div>"
      ],
      "text/plain": [
       "             account_name        date  value\n",
       "1325351  20IX_MPCV_US_adj  2015-03-01    2.1\n",
       "1325352  XXXX_MPCP_US_adj  2015-03-01    1.6\n",
       "1325353  00XX_MPCP_US_adj  2015-03-01   10.7\n",
       "1325354  NRXX_MPCP_US_adj  2015-03-01    1.4\n",
       "1325356  03XX_MPCP_US_adj  2015-03-01    5.2"
      ]
     },
     "execution_count": 12,
     "metadata": {},
     "output_type": "execute_result"
    }
   ],
   "source": [
    "df_filtered.tail()"
   ]
  },
  {
   "cell_type": "code",
   "execution_count": 13,
   "id": "b72e257f-7cd4-4624-b4f3-bc609d4c623e",
   "metadata": {},
   "outputs": [
    {
     "data": {
      "text/plain": [
       "199269"
      ]
     },
     "execution_count": 13,
     "metadata": {},
     "output_type": "execute_result"
    }
   ],
   "source": [
    "len(df_filtered)"
   ]
  },
  {
   "cell_type": "markdown",
   "id": "30a4e267-7a63-42e3-944f-13b7d311d8bf",
   "metadata": {},
   "source": [
    "Let's filter for only those accounts that have **all** the monthly revenue numbers present between 2012-01 to 2015-03 i.e. for 39 months."
   ]
  },
  {
   "cell_type": "code",
   "execution_count": 14,
   "id": "c2972b05-9bf5-43fd-b88a-2f7a1c6cafdf",
   "metadata": {},
   "outputs": [],
   "source": [
    "grouped_df = df_filtered.groupby(\"account_name\")"
   ]
  },
  {
   "cell_type": "code",
   "execution_count": 15,
   "id": "604c2013-4868-46ff-a41c-1f6c4cf0e042",
   "metadata": {},
   "outputs": [],
   "source": [
    "final_df = pd.DataFrame()\n",
    "for group in grouped_df:\n",
    "    if group[1]['date'].nunique() == 39:\n",
    "        final_df = pd.concat([final_df, group[1]])\n",
    "final_df.reset_index(inplace=True, drop=True)"
   ]
  },
  {
   "cell_type": "code",
   "execution_count": 16,
   "id": "a9307f95-2a25-40bb-b261-05c0ca4ed7f8",
   "metadata": {},
   "outputs": [
    {
     "data": {
      "text/plain": [
       "2045"
      ]
     },
     "execution_count": 16,
     "metadata": {},
     "output_type": "execute_result"
    }
   ],
   "source": [
    "final_df.account_name.nunique()"
   ]
  },
  {
   "cell_type": "markdown",
   "id": "5b4a8277-b4c9-49cb-a909-462b2d44f3d4",
   "metadata": {},
   "source": [
    "Now that we have about ~2000 unique account names, let's filter to retain only a subset of the accounts for model training purposes."
   ]
  },
  {
   "cell_type": "code",
   "execution_count": 17,
   "id": "0d409288-5445-4755-94f7-8d4bf703aac0",
   "metadata": {},
   "outputs": [],
   "source": [
    "g_df = final_df.groupby(\"account_name\")"
   ]
  },
  {
   "cell_type": "code",
   "execution_count": 18,
   "id": "2b4e3676-4070-4ce0-8048-33950d0db677",
   "metadata": {},
   "outputs": [],
   "source": [
    "# filter for first 50 unique account names\n",
    "df_result = filter_n_groups(g_df, 50)"
   ]
  },
  {
   "cell_type": "code",
   "execution_count": 19,
   "id": "a29e571b-5bd7-487a-8b1a-e885c2c94038",
   "metadata": {},
   "outputs": [
    {
     "data": {
      "text/html": [
       "<div>\n",
       "<style scoped>\n",
       "    .dataframe tbody tr th:only-of-type {\n",
       "        vertical-align: middle;\n",
       "    }\n",
       "\n",
       "    .dataframe tbody tr th {\n",
       "        vertical-align: top;\n",
       "    }\n",
       "\n",
       "    .dataframe thead th {\n",
       "        text-align: right;\n",
       "    }\n",
       "</style>\n",
       "<table border=\"1\" class=\"dataframe\">\n",
       "  <thead>\n",
       "    <tr style=\"text-align: right;\">\n",
       "      <th></th>\n",
       "      <th>account_name</th>\n",
       "      <th>date</th>\n",
       "      <th>value</th>\n",
       "    </tr>\n",
       "  </thead>\n",
       "  <tbody>\n",
       "    <tr>\n",
       "      <th>0</th>\n",
       "      <td>00XX_E_MPCP_US</td>\n",
       "      <td>2012-01-01</td>\n",
       "      <td>3.2</td>\n",
       "    </tr>\n",
       "    <tr>\n",
       "      <th>1</th>\n",
       "      <td>00XX_E_MPCP_US</td>\n",
       "      <td>2012-02-01</td>\n",
       "      <td>3.8</td>\n",
       "    </tr>\n",
       "    <tr>\n",
       "      <th>2</th>\n",
       "      <td>00XX_E_MPCP_US</td>\n",
       "      <td>2012-03-01</td>\n",
       "      <td>2.5</td>\n",
       "    </tr>\n",
       "    <tr>\n",
       "      <th>3</th>\n",
       "      <td>00XX_E_MPCP_US</td>\n",
       "      <td>2012-04-01</td>\n",
       "      <td>3.1</td>\n",
       "    </tr>\n",
       "    <tr>\n",
       "      <th>4</th>\n",
       "      <td>00XX_E_MPCP_US</td>\n",
       "      <td>2012-05-01</td>\n",
       "      <td>4.6</td>\n",
       "    </tr>\n",
       "  </tbody>\n",
       "</table>\n",
       "</div>"
      ],
      "text/plain": [
       "     account_name        date  value\n",
       "0  00XX_E_MPCP_US  2012-01-01    3.2\n",
       "1  00XX_E_MPCP_US  2012-02-01    3.8\n",
       "2  00XX_E_MPCP_US  2012-03-01    2.5\n",
       "3  00XX_E_MPCP_US  2012-04-01    3.1\n",
       "4  00XX_E_MPCP_US  2012-05-01    4.6"
      ]
     },
     "execution_count": 19,
     "metadata": {},
     "output_type": "execute_result"
    }
   ],
   "source": [
    "df_result.head()"
   ]
  },
  {
   "cell_type": "code",
   "execution_count": 20,
   "id": "83d98586-f225-4bc6-9d42-4733925798d6",
   "metadata": {},
   "outputs": [
    {
     "data": {
      "text/plain": [
       "50"
      ]
     },
     "execution_count": 20,
     "metadata": {},
     "output_type": "execute_result"
    }
   ],
   "source": [
    "df_result.account_name.nunique()"
   ]
  },
  {
   "cell_type": "code",
   "execution_count": 21,
   "id": "f16fe68e-43b8-413d-a848-74ab89d070c0",
   "metadata": {},
   "outputs": [
    {
     "data": {
      "text/plain": [
       "1950"
      ]
     },
     "execution_count": 21,
     "metadata": {},
     "output_type": "execute_result"
    }
   ],
   "source": [
    "len(df_result)"
   ]
  },
  {
   "cell_type": "markdown",
   "id": "3571427c-f7c5-4f81-99d2-f6a6bfc3cd1b",
   "metadata": {},
   "source": [
    "## Store Data\n",
    "\n",
    "Let's store the pre-processed data as a new CSV file"
   ]
  },
  {
   "cell_type": "code",
   "execution_count": 22,
   "id": "dfd0898d-e4ad-40ba-8fc1-60b3dd4420d2",
   "metadata": {},
   "outputs": [],
   "source": [
    "df_result.to_csv(\"../data/processed/final_revenue_data.csv\", index=False)"
   ]
  }
 ],
 "metadata": {
  "kernelspec": {
   "display_name": "Python 3.9.14",
   "language": "python",
   "name": "python3"
  },
  "language_info": {
   "codemirror_mode": {
    "name": "ipython",
    "version": 3
   },
   "file_extension": ".py",
   "mimetype": "text/x-python",
   "name": "python",
   "nbconvert_exporter": "python",
   "pygments_lexer": "ipython3",
   "version": "3.9.14"
  }
 },
 "nbformat": 4,
 "nbformat_minor": 5
}
